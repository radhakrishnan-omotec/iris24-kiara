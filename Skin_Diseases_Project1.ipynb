{
  "nbformat": 4,
  "nbformat_minor": 0,
  "metadata": {
    "colab": {
      "provenance": [],
      "authorship_tag": "ABX9TyNBb1GvRs9seaNkgNFxbAGZ",
      "include_colab_link": true
    },
    "kernelspec": {
      "name": "python3",
      "display_name": "Python 3"
    },
    "language_info": {
      "name": "python"
    }
  },
  "cells": [
    {
      "cell_type": "markdown",
      "metadata": {
        "id": "view-in-github",
        "colab_type": "text"
      },
      "source": [
        "<a href=\"https://colab.research.google.com/github/radhakrishnan-omotec/iris24-kiara/blob/main/Skin_Diseases_Project1.ipynb\" target=\"_parent\"><img src=\"https://colab.research.google.com/assets/colab-badge.svg\" alt=\"Open In Colab\"/></a>"
      ]
    },
    {
      "cell_type": "code",
      "execution_count": null,
      "metadata": {
        "id": "rHAne8oIxrSr"
      },
      "outputs": [],
      "source": []
    },
    {
      "cell_type": "markdown",
      "source": [
        "# Skin Diseases in Dogs - CNN Classification"
      ],
      "metadata": {
        "id": "hPONap3yxsAQ"
      }
    },
    {
      "cell_type": "markdown",
      "source": [
        "### Author : KIARA"
      ],
      "metadata": {
        "id": "SB9PtyP4x1eO"
      }
    },
    {
      "cell_type": "code",
      "source": [],
      "metadata": {
        "id": "8Fyaj70Qx07N"
      },
      "execution_count": null,
      "outputs": []
    }
  ]
}